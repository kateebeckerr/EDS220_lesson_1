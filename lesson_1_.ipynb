{
 "cells": [
  {
   "cell_type": "markdown",
   "id": "26e6f5af-9fd3-49c0-aeb1-08aacf9a6fe2",
   "metadata": {},
   "source": [
    "# Python Basics \n",
    "\n",
    "# 'numpy \n",
    "- one of the core packages for a numerical computing in python \n",
    "- many packages are built on top of numpy \n",
    "- numpy has been optimized for processing: efficient use of memory, faster memory acces"
   ]
  },
  {
   "cell_type": "code",
   "execution_count": 1,
   "id": "7241119a-4cce-4da6-9193-d3e08e7c5e2f",
   "metadata": {
    "tags": []
   },
   "outputs": [],
   "source": [
    "# import numpy with standard abbreviation \n",
    "import numpy as np "
   ]
  },
  {
   "cell_type": "markdown",
   "id": "cac51b58-0f8f-4a48-a6ef-9072349a7585",
   "metadata": {},
   "source": [
    "# Variables\n",
    "we can think about variables as a name we assign to particularobejcts in python, for example "
   ]
  },
  {
   "cell_type": "code",
   "execution_count": 11,
   "id": "0bbc05fe-dee4-4bda-8356-564b6cacedc0",
   "metadata": {
    "tags": []
   },
   "outputs": [],
   "source": [
    "# assign a small array to a variable a \n",
    "# np array\n",
    "a = np.array( [[1,1,2], [3,5,8] ] )"
   ]
  },
  {
   "cell_type": "markdown",
   "id": "6ce4957c-9760-403d-96e1-76fb283d95c0",
   "metadata": {
    "tags": []
   },
   "source": [
    "# When we run the cell, we store the variable and its value. We can the variables value in two ways "
   ]
  },
  {
   "cell_type": "markdown",
   "id": "16c84377-5c96-4b87-8076-87de131489b2",
   "metadata": {
    "tags": []
   },
   "source": [
    "a"
   ]
  },
  {
   "cell_type": "code",
   "execution_count": 8,
   "id": "62502cf3-7ec4-4d8e-a388-c4e06de72756",
   "metadata": {
    "tags": []
   },
   "outputs": [
    {
     "name": "stdout",
     "output_type": "stream",
     "text": [
      "[[1 1 2]\n",
      " [3 5 8]]\n"
     ]
    }
   ],
   "source": [
    "print(a)"
   ]
  },
  {
   "cell_type": "markdown",
   "id": "1e07d460-a88e-4830-92fd-ee8b07dfe04c",
   "metadata": {},
   "source": [
    "# naming variables \n",
    "in the class we are going to use 'snake_case' for naming variables (all small caps with udnerscore to separrate words) \n",
    "\n",
    "# Variables and objects \n",
    "\n",
    "**object** : often encountered in python documentation and tutorials \n",
    "object is a bunudle of properties and actions about something specific \n",
    "\n",
    "Example: \n",
    "\n",
    "- object: data frame (contains properties and actions)\n",
    "- properties: number of rows, names of columns, data created \n",
    "- actions: selecitng a row, adding a new column, etc. \n",
    "\n",
    "A variable is a name we give a specific object, and the same object can be referenced to by different variables \n",
    "\n",
    "Example: \n",
    "- the sun (actual sar at the center of the solar system) = object \n",
    "- sol = Spanish work for sun = variable, naming object sun \n",
    "- soleil = French for Sun = another variable\n",
    "\n",
    "In practice: we will use object and variable interchangeably "
   ]
  },
  {
   "cell_type": "markdown",
   "id": "f11495fd-3504-42ce-bb25-1ac93ccefe80",
   "metadata": {},
   "source": [
    "# Types \n",
    "\n",
    "Each object in python has a type\n",
    "\n",
    "type = what kind of object the thing is \n",
    "\n",
    "We can also call the type of the object, the **class** of the object\n",
    "\n",
    "We can see the type/class of an object using the type function "
   ]
  },
  {
   "cell_type": "code",
   "execution_count": 12,
   "id": "8b31d988-4453-458e-960c-5b315f641663",
   "metadata": {
    "tags": []
   },
   "outputs": [
    {
     "name": "stdout",
     "output_type": "stream",
     "text": [
      "[[1 1 2]\n",
      " [3 5 8]]\n"
     ]
    },
    {
     "data": {
      "text/plain": [
       "numpy.ndarray"
      ]
     },
     "execution_count": 12,
     "metadata": {},
     "output_type": "execute_result"
    }
   ],
   "source": [
    "print(a)\n",
    "type(a)\n",
    "#always check what type of object you have to get more info! step zero!"
   ]
  },
  {
   "cell_type": "markdown",
   "id": "b4b25752-8dfa-4ad9-940a-efae5f68b753",
   "metadata": {},
   "source": [
    "The numpy.ndarray is the core object/data type in the numpy packages\n",
    "We can check the type of an entry in the array by indexing "
   ]
  },
  {
   "cell_type": "code",
   "execution_count": 13,
   "id": "5728a743-ad53-4dd3-adda-62d77c91c593",
   "metadata": {
    "tags": []
   },
   "outputs": [
    {
     "name": "stdout",
     "output_type": "stream",
     "text": [
      "1\n"
     ]
    }
   ],
   "source": [
    "#print first in corner so index, index happens in square brackets, indexing starts at 0 in python \n",
    "#access first row first column \n",
    "\n",
    "print(a[0,0])"
   ]
  },
  {
   "cell_type": "code",
   "execution_count": 14,
   "id": "e2b5c265-b3b1-44a1-8ca3-7b2fa0571343",
   "metadata": {
    "tags": []
   },
   "outputs": [
    {
     "data": {
      "text/plain": [
       "numpy.int64"
      ]
     },
     "execution_count": 14,
     "metadata": {},
     "output_type": "execute_result"
    }
   ],
   "source": [
    "#1 is stored as integer on 64 bits of memory , how much space number takes in computer \n",
    "\n",
    "type(a[0,0])\n"
   ]
  },
  {
   "cell_type": "code",
   "execution_count": 16,
   "id": "18242392-3308-40f8-9ffe-da6f28f516e9",
   "metadata": {
    "tags": []
   },
   "outputs": [
    {
     "name": "stdout",
     "output_type": "stream",
     "text": [
      "5\n"
     ]
    }
   ],
   "source": [
    "# how to access value 5 in array a? \n",
    "\n",
    "print(a[1,1])"
   ]
  },
  {
   "cell_type": "markdown",
   "id": "60a45439-446f-4422-b3ef-c8e29e00c6de",
   "metadata": {},
   "source": [
    "## Functions\n",
    "\n",
    "print was our example of a python function! :) \n",
    "\n",
    "A fucntion: \n",
    "- take in a set of **arguments** separated by commas, and \n",
    "- use those arguments to produce some **output**\n",
    "\n",
    "argument = parameter : you might see argument mroe foten in documentation \n",
    "\n",
    "We can ask informaiton about a function by executing ? followed by function name "
   ]
  },
  {
   "cell_type": "code",
   "execution_count": 18,
   "id": "34c54788-ada4-4829-9b3c-f80e157eed4c",
   "metadata": {
    "tags": []
   },
   "outputs": [
    {
     "data": {
      "text/plain": [
       "\u001b[0;31mDocstring:\u001b[0m\n",
       "print(value, ..., sep=' ', end='\\n', file=sys.stdout, flush=False)\n",
       "\n",
       "Prints the values to a stream, or to sys.stdout by default.\n",
       "Optional keyword arguments:\n",
       "file:  a file-like object (stream); defaults to the current sys.stdout.\n",
       "sep:   string inserted between values, default a space.\n",
       "end:   string appended after the last value, default a newline.\n",
       "flush: whether to forcibly flush the stream.\n",
       "\u001b[0;31mType:\u001b[0m      builtin_function_or_method\n"
      ]
     },
     "metadata": {},
     "output_type": "display_data"
    }
   ],
   "source": [
    "?print"
   ]
  },
  {
   "cell_type": "markdown",
   "id": "fc9b7c61-f045-4164-9842-043898745589",
   "metadata": {},
   "source": [
    "- first line: fucntion showing all of its arguments in parenthesis \n",
    "- then a short description of what the function does \n",
    "- finally, a list of the arguments and a brief explanation of each of them \n",
    "\n",
    "(file, sep, end, flsuh = arguments and explanation for each) \n",
    "\n",
    "Different types of argumentn sinside the paranethesis. Roughyl speaking there are two types of arguments \n",
    "\n",
    "- **non-optional arguments**: arguments you need to specify for the fucntion to do something \n",
    "- **optional arguments**: arguments that are pre-filled with a default value bythe function, we can \n",
    "override them, optional arguments appear inside the parenthesis () in the form \n",
    "\n",
    "`optional argument = default_value' \n",
    "\n",
    "optional arguments: file, sep, end flush (insdie argument theres a deffault value whiel value is non optional) "
   ]
  },
  {
   "cell_type": "code",
   "execution_count": 19,
   "id": "8747ce13-a0f7-4868-a0c2-7affd4d506a5",
   "metadata": {
    "tags": []
   },
   "outputs": [
    {
     "name": "stdout",
     "output_type": "stream",
     "text": [
      "changing the default argument of the print function:)"
     ]
    }
   ],
   "source": [
    "print('changing the default argument of the print function', end=':)')\n",
    "\n",
    "#end is optional arguemnt "
   ]
  },
  {
   "cell_type": "code",
   "execution_count": 20,
   "id": "7cbff153-c0d1-4b1c-b6a0-e25a887481d9",
   "metadata": {
    "tags": []
   },
   "outputs": [
    {
     "name": "stdout",
     "output_type": "stream",
     "text": [
      "changing the default argument of the print function\n"
     ]
    }
   ],
   "source": [
    "print('changing the default argument of the print function')\n"
   ]
  },
  {
   "cell_type": "markdown",
   "id": "6333300d-ce1b-4eed-b6ae-d639452fcf66",
   "metadata": {},
   "source": [
    "# Attributes & Methods \n",
    "\n",
    "An object in python has attributes and methods. \n",
    "\n",
    "    - object: cat \n",
    "- **attribute**: a property of an object, a piece of information about it. \n",
    "    - name, color, age weight \n",
    "- **method**: a procedure associated with an object, an action where the main ingredient is the object itself. \n",
    "    - meow()\n",
    "    - nap()\n",
    "    - chase_laser()\n",
    "    - move_tail()\n",
    "    \n",
    "    ex: fish \n",
    "    attribute: information about it, some cant be updated like species but can be changed like the weight \n",
    "    - length, speed, weight, reproductive rate\n",
    "    method: \n",
    "    - swim()\n",
    "    - jump()\n",
    "    - eat()\n",
    "    - blink()\n",
    "    \n",
    "Access a variables attributes and methods by adding a period '.' at the end of the variable name (IN PYTHON)\n",
    "syntax: `variable.variable_method()` or \n",
    "`variable.variale_attribute`\n",
    "\n",
    "Examples: \n",
    "\n",
    "methods and attributes of Numpy arrays: \n",
    "    "
   ]
  },
  {
   "cell_type": "code",
   "execution_count": 1,
   "id": "5253be60-ba7d-46a8-9cdf-41ae9d9c62d2",
   "metadata": {
    "tags": []
   },
   "outputs": [],
   "source": [
    "import numpy as np"
   ]
  },
  {
   "cell_type": "code",
   "execution_count": 3,
   "id": "884e46da-d094-4696-bad1-8bc1f8048480",
   "metadata": {
    "tags": []
   },
   "outputs": [
    {
     "data": {
      "text/plain": [
       "array([[1, 2, 3],\n",
       "       [4, 5, 6],\n",
       "       [7, 8, 9]])"
      ]
     },
     "execution_count": 3,
     "metadata": {},
     "output_type": "execute_result"
    }
   ],
   "source": [
    "#define 3 x 3 array , each square bracket is a row in the array \n",
    "var = np.array( [ [1,2,3], [4,5,6], [7,8,9] ] )\n",
    "var"
   ]
  },
  {
   "cell_type": "code",
   "execution_count": 4,
   "id": "782d9438-338b-480d-9662-ba8793d36b44",
   "metadata": {
    "tags": []
   },
   "outputs": [
    {
     "data": {
      "text/plain": [
       "(3, 3)"
      ]
     },
     "execution_count": 4,
     "metadata": {},
     "output_type": "execute_result"
    }
   ],
   "source": [
    "#shape: an attribute telling us the number of elements in each dimension of the array \n",
    "\n",
    "var.shape"
   ]
  },
  {
   "cell_type": "code",
   "execution_count": 6,
   "id": "ff3b8b1c-c0f7-4cf8-af16-e6c9a1fc3f76",
   "metadata": {
    "tags": []
   },
   "outputs": [
    {
     "data": {
      "text/plain": [
       "tuple"
      ]
     },
     "execution_count": 6,
     "metadata": {},
     "output_type": "execute_result"
    }
   ],
   "source": [
    "type(var.shape)"
   ]
  },
  {
   "cell_type": "code",
   "execution_count": 7,
   "id": "56425d0b-cbc5-4958-ba04-76ab4bc6be97",
   "metadata": {
    "tags": []
   },
   "outputs": [
    {
     "data": {
      "text/plain": [
       "2"
      ]
     },
     "execution_count": 7,
     "metadata": {},
     "output_type": "execute_result"
    }
   ],
   "source": [
    "#tuple is a core type in pyhon, immutable \n",
    "\n",
    "#ndim is an attribute hodlingg the number of array dimensions \n",
    "\n",
    "var.ndim"
   ]
  },
  {
   "cell_type": "code",
   "execution_count": 8,
   "id": "e1dd4b2b-55b1-4480-9efc-700af53ebf98",
   "metadata": {
    "tags": []
   },
   "outputs": [
    {
     "data": {
      "text/plain": [
       "int"
      ]
     },
     "execution_count": 8,
     "metadata": {},
     "output_type": "execute_result"
    }
   ],
   "source": [
    "type(var.ndim)"
   ]
  },
  {
   "cell_type": "markdown",
   "id": "ffd599b1-21b4-4ba5-b281-04387e8ffa05",
   "metadata": {},
   "source": [
    "- Notice attributes can have many different data types. \n",
    "\n",
    "Examples of methods: "
   ]
  },
  {
   "cell_type": "code",
   "execution_count": 9,
   "id": "bca2a7fe-7d78-44d6-83b5-72dc25379d10",
   "metadata": {
    "tags": []
   },
   "outputs": [
    {
     "data": {
      "text/plain": [
       "1"
      ]
     },
     "execution_count": 9,
     "metadata": {},
     "output_type": "execute_result"
    }
   ],
   "source": [
    "# min method for array returns the minium value in thed array \n",
    "\n",
    "var.min()"
   ]
  },
  {
   "cell_type": "code",
   "execution_count": 10,
   "id": "12706820-1e7f-4e85-8217-4522f229bb53",
   "metadata": {
    "tags": []
   },
   "outputs": [
    {
     "data": {
      "text/plain": [
       "builtin_function_or_method"
      ]
     },
     "execution_count": 10,
     "metadata": {},
     "output_type": "execute_result"
    }
   ],
   "source": [
    "type(var.min)\n",
    "\n",
    "#function associated with that object"
   ]
  },
  {
   "cell_type": "markdown",
   "id": "57bfe703-8a2a-4ff7-b839-2b6e7d87deec",
   "metadata": {},
   "source": [
    "# R and Python \n",
    "R: \n",
    "- doesnt use methods within an object \n",
    "- functions in R are extrinsic to (outside) the objects theyre acting on \n",
    "\n",
    "Example: recreate getting the min value in an array \n",
    "\n",
    "In R there would be two separate items: the variable `var` and a separate fucntion `min`\n",
    "that gets `var` as a paramter: \n",
    "\n",
    "\n",
    "```\n",
    "# this is R code \n",
    "var <- array(c(1,4,7,2,5,8,3,6,9), dim = c(3,3)\n",
    "min(var)\n",
    "```\n",
    "\n",
    "Using the pipe operatir >%> in R's tidy verse is closer to the `.` in Python: \n",
    "\n",
    "```\n",
    "var <- array(c(1,4,7,2,5,8,3,6,9), dim = c(3,3)\n",
    "var >%> min()\n",
    "```\n",
    "\n",
    "What is happening? \n",
    "The pipe `>%>` is passing `var` to the `min()` as it first arguments. This is essenetually what the `.` in Python: \n",
    "\n",
    "```\n",
    "var = np.array( [ [1,2,3] , [4,5,6], [7,8,9] ] )\n",
    "var.min\n",
    "```\n"
   ]
  }
 ],
 "metadata": {
  "kernelspec": {
   "display_name": "Python 3 (ipykernel)",
   "language": "python",
   "name": "python3"
  },
  "language_info": {
   "codemirror_mode": {
    "name": "ipython",
    "version": 3
   },
   "file_extension": ".py",
   "mimetype": "text/x-python",
   "name": "python",
   "nbconvert_exporter": "python",
   "pygments_lexer": "ipython3",
   "version": "3.7.13"
  }
 },
 "nbformat": 4,
 "nbformat_minor": 5
}
