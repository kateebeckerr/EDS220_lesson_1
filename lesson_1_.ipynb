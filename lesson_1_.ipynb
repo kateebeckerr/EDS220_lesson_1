{
 "cells": [
  {
   "cell_type": "markdown",
   "id": "26e6f5af-9fd3-49c0-aeb1-08aacf9a6fe2",
   "metadata": {},
   "source": [
    "# Python Basics \n",
    "\n",
    "# 'numpy \n",
    "- one of the core packages for a numerical computing in python \n",
    "- many packages are built on top of numpy \n",
    "- numpy has been optimized for processing: efficient use of memory, faster memory acces"
   ]
  },
  {
   "cell_type": "code",
   "execution_count": 1,
   "id": "7241119a-4cce-4da6-9193-d3e08e7c5e2f",
   "metadata": {
    "tags": []
   },
   "outputs": [],
   "source": [
    "# import numpy with standard abbreviation \n",
    "import numpy as np "
   ]
  },
  {
   "cell_type": "markdown",
   "id": "cac51b58-0f8f-4a48-a6ef-9072349a7585",
   "metadata": {},
   "source": [
    "# Variables\n",
    "we can think about variables as a name we assign to particularobejcts in python, for example "
   ]
  },
  {
   "cell_type": "code",
   "execution_count": 11,
   "id": "0bbc05fe-dee4-4bda-8356-564b6cacedc0",
   "metadata": {
    "tags": []
   },
   "outputs": [],
   "source": [
    "# assign a small array to a variable a \n",
    "# np array\n",
    "a = np.array( [[1,1,2], [3,5,8] ] )"
   ]
  },
  {
   "cell_type": "markdown",
   "id": "6ce4957c-9760-403d-96e1-76fb283d95c0",
   "metadata": {
    "tags": []
   },
   "source": [
    "# When we run the cell, we store the variable and its value. We can the variables value in two ways "
   ]
  },
  {
   "cell_type": "markdown",
   "id": "16c84377-5c96-4b87-8076-87de131489b2",
   "metadata": {
    "tags": []
   },
   "source": [
    "a"
   ]
  },
  {
   "cell_type": "code",
   "execution_count": 8,
   "id": "62502cf3-7ec4-4d8e-a388-c4e06de72756",
   "metadata": {
    "tags": []
   },
   "outputs": [
    {
     "name": "stdout",
     "output_type": "stream",
     "text": [
      "[[1 1 2]\n",
      " [3 5 8]]\n"
     ]
    }
   ],
   "source": [
    "print(a)"
   ]
  },
  {
   "cell_type": "markdown",
   "id": "1e07d460-a88e-4830-92fd-ee8b07dfe04c",
   "metadata": {},
   "source": [
    "# naming variables \n",
    "in the class we are going to use 'snake_case' for naming variables (all small caps with udnerscore to separrate words) \n",
    "\n",
    "# Variables and objects \n",
    "\n",
    "**object** : often encountered in python documentation and tutorials \n",
    "object is a bunudle of properties and actions about something specific \n",
    "\n",
    "Example: \n",
    "\n",
    "- object: data frame (contains properties and actions)\n",
    "- properties: number of rows, names of columns, data created \n",
    "- actions: selecitng a row, adding a new column, etc. \n",
    "\n",
    "A variable is a name we give a specific object, and the same object can be referenced to by different variables \n",
    "\n",
    "Example: \n",
    "- the sun (actual sar at the center of the solar system) = object \n",
    "- sol = Spanish work for sun = variable, naming object sun \n",
    "- soleil = French for Sun = another variable\n",
    "\n",
    "In practice: we will use object and variable interchangeably "
   ]
  },
  {
   "cell_type": "markdown",
   "id": "f11495fd-3504-42ce-bb25-1ac93ccefe80",
   "metadata": {},
   "source": [
    "# Types \n",
    "\n",
    "Each object in python has a type\n",
    "\n",
    "type = what kind of object the thing is \n",
    "\n",
    "We can also call the type of the object, the **class** of the object\n",
    "\n",
    "We can see the type/class of an object using the type function "
   ]
  },
  {
   "cell_type": "code",
   "execution_count": 12,
   "id": "8b31d988-4453-458e-960c-5b315f641663",
   "metadata": {
    "tags": []
   },
   "outputs": [
    {
     "name": "stdout",
     "output_type": "stream",
     "text": [
      "[[1 1 2]\n",
      " [3 5 8]]\n"
     ]
    },
    {
     "data": {
      "text/plain": [
       "numpy.ndarray"
      ]
     },
     "execution_count": 12,
     "metadata": {},
     "output_type": "execute_result"
    }
   ],
   "source": [
    "print(a)\n",
    "type(a)\n",
    "#always check what type of object you have to get more info! step zero!"
   ]
  },
  {
   "cell_type": "markdown",
   "id": "b4b25752-8dfa-4ad9-940a-efae5f68b753",
   "metadata": {},
   "source": [
    "The numpy.ndarray is the core object/data type in the numpy packages\n",
    "We can check the type of an entry in the array by indexing "
   ]
  },
  {
   "cell_type": "code",
   "execution_count": 13,
   "id": "5728a743-ad53-4dd3-adda-62d77c91c593",
   "metadata": {
    "tags": []
   },
   "outputs": [
    {
     "name": "stdout",
     "output_type": "stream",
     "text": [
      "1\n"
     ]
    }
   ],
   "source": [
    "#print first in corner so index, index happens in square brackets, indexing starts at 0 in python \n",
    "#access first row first column \n",
    "\n",
    "print(a[0,0])"
   ]
  },
  {
   "cell_type": "code",
   "execution_count": 14,
   "id": "e2b5c265-b3b1-44a1-8ca3-7b2fa0571343",
   "metadata": {
    "tags": []
   },
   "outputs": [
    {
     "data": {
      "text/plain": [
       "numpy.int64"
      ]
     },
     "execution_count": 14,
     "metadata": {},
     "output_type": "execute_result"
    }
   ],
   "source": [
    "#1 is stored as integer on 64 bits of memory , how much space number takes in computer \n",
    "\n",
    "type(a[0,0])\n"
   ]
  },
  {
   "cell_type": "code",
   "execution_count": 16,
   "id": "18242392-3308-40f8-9ffe-da6f28f516e9",
   "metadata": {
    "tags": []
   },
   "outputs": [
    {
     "name": "stdout",
     "output_type": "stream",
     "text": [
      "5\n"
     ]
    }
   ],
   "source": [
    "# how to access value 5 in array a? \n",
    "\n",
    "print(a[1,1])"
   ]
  },
  {
   "cell_type": "markdown",
   "id": "60a45439-446f-4422-b3ef-c8e29e00c6de",
   "metadata": {},
   "source": [
    "## Functions\n",
    "\n",
    "print was our example of a python function! :) \n",
    "\n",
    "A fucntion: \n",
    "- take in a set of **arguments** separated by commas, and \n",
    "- use those arguments to produce some **output**\n",
    "\n",
    "argument = parameter : you might see argument mroe foten in documentation \n",
    "\n",
    "We can ask informaiton about a function by executing ? followed by function name "
   ]
  },
  {
   "cell_type": "code",
   "execution_count": 18,
   "id": "34c54788-ada4-4829-9b3c-f80e157eed4c",
   "metadata": {
    "tags": []
   },
   "outputs": [
    {
     "data": {
      "text/plain": [
       "\u001b[0;31mDocstring:\u001b[0m\n",
       "print(value, ..., sep=' ', end='\\n', file=sys.stdout, flush=False)\n",
       "\n",
       "Prints the values to a stream, or to sys.stdout by default.\n",
       "Optional keyword arguments:\n",
       "file:  a file-like object (stream); defaults to the current sys.stdout.\n",
       "sep:   string inserted between values, default a space.\n",
       "end:   string appended after the last value, default a newline.\n",
       "flush: whether to forcibly flush the stream.\n",
       "\u001b[0;31mType:\u001b[0m      builtin_function_or_method\n"
      ]
     },
     "metadata": {},
     "output_type": "display_data"
    }
   ],
   "source": [
    "?print"
   ]
  },
  {
   "cell_type": "markdown",
   "id": "fc9b7c61-f045-4164-9842-043898745589",
   "metadata": {},
   "source": [
    "- first line: fucntion showing all of its arguments in parenthesis \n",
    "- then a short description of what the function does \n",
    "- finally, a list of the arguments and a brief explanation of each of them \n",
    "\n",
    "(file, sep, end, flsuh = arguments and explanation for each) \n",
    "\n",
    "Different types of argumentn sinside the paranethesis. Roughyl speaking there are two types of arguments \n",
    "\n",
    "- **non-optional arguments**: arguments you need to specify for the fucntion to do something \n",
    "- **optional arguments**: arguments that are pre-filled with a default value bythe function, we can \n",
    "override them, optional arguments appear inside the parenthesis () in the form \n",
    "\n",
    "`optional argument = default_value' \n",
    "\n",
    "optional arguments: file, sep, end flush (insdie argument theres a deffault value whiel value is non optional) "
   ]
  },
  {
   "cell_type": "code",
   "execution_count": 19,
   "id": "8747ce13-a0f7-4868-a0c2-7affd4d506a5",
   "metadata": {
    "tags": []
   },
   "outputs": [
    {
     "name": "stdout",
     "output_type": "stream",
     "text": [
      "changing the default argument of the print function:)"
     ]
    }
   ],
   "source": [
    "print('changing the default argument of the print function', end=':)')\n",
    "\n",
    "#end is optional arguemnt "
   ]
  },
  {
   "cell_type": "code",
   "execution_count": 20,
   "id": "7cbff153-c0d1-4b1c-b6a0-e25a887481d9",
   "metadata": {
    "tags": []
   },
   "outputs": [
    {
     "name": "stdout",
     "output_type": "stream",
     "text": [
      "changing the default argument of the print function\n"
     ]
    }
   ],
   "source": [
    "print('changing the default argument of the print function')\n"
   ]
  },
  {
   "cell_type": "code",
   "execution_count": null,
   "id": "3beb3282-6f5a-4f53-9a35-4c465c1a9451",
   "metadata": {},
   "outputs": [],
   "source": []
  }
 ],
 "metadata": {
  "kernelspec": {
   "display_name": "Python 3 (ipykernel)",
   "language": "python",
   "name": "python3"
  },
  "language_info": {
   "codemirror_mode": {
    "name": "ipython",
    "version": 3
   },
   "file_extension": ".py",
   "mimetype": "text/x-python",
   "name": "python",
   "nbconvert_exporter": "python",
   "pygments_lexer": "ipython3",
   "version": "3.7.13"
  }
 },
 "nbformat": 4,
 "nbformat_minor": 5
}
