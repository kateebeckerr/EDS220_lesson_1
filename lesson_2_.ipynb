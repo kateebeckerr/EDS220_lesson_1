{
 "cells": [
  {
   "cell_type": "markdown",
   "id": "30338926-d546-435c-b4ca-e046edbb757a",
   "metadata": {},
   "source": [
    "# Objectives \n",
    "\n",
    "Review core `pandas` objects: `pandas.Series` and `pandas.DataFrame`\n",
    "\n",
    "# `pandas`\n",
    "- Python package to wrangle and analyze tabular data \n",
    "- built on top of numpy \n",
    "- core tool for data analysis in python "
   ]
  },
  {
   "cell_type": "code",
   "execution_count": 8,
   "id": "65346833-31b6-4624-b518-db50e9b28c3c",
   "metadata": {
    "tags": []
   },
   "outputs": [],
   "source": [
    "## improt pandas with standard abbreviation \n",
    "import pandas as pd \n",
    "\n",
    "#import numpy too!\n",
    "import numpy as np "
   ]
  },
  {
   "cell_type": "markdown",
   "id": "b061b10e-450c-433f-b2bf-09550b973811",
   "metadata": {},
   "source": [
    "# Series \n",
    "\n",
    "A `panads.Series`: \n",
    "\n",
    "- is one of the core data structures in `pandas`\n",
    "- a 1-dimensional array of *indexed* data\n",
    "- will be the columns of the `pandas.DataFrame`\n",
    "\n",
    "# Creating a pandas Series \n",
    "\n",
    "Several ways to create a panda series \n",
    "For now, we willc reate series using: \n",
    "\n",
    "```\n",
    "s = pd.Series(data, index=index)\n",
    "```\n",
    "- `data` = numpy array (or a lsit of objects that can be converted to Numpy types\n",
    "- `index` = a list of indices of same length as data \n",
    "\n"
   ]
  },
  {
   "cell_type": "code",
   "execution_count": 9,
   "id": "23356d1e-fb14-4640-acb9-14c36790c1e3",
   "metadata": {
    "tags": []
   },
   "outputs": [
    {
     "data": {
      "text/plain": [
       "array([0, 1, 2])"
      ]
     },
     "execution_count": 9,
     "metadata": {},
     "output_type": "execute_result"
    }
   ],
   "source": [
    "# ex: a pandas series from a numpy array \n",
    "# np.arrange() fucntion constructs an array of consecutive integers\n",
    "\n",
    "np.arange(3)"
   ]
  },
  {
   "cell_type": "code",
   "execution_count": 11,
   "id": "8e19ac7f-5c72-4a76-9a27-19c24b763d9a",
   "metadata": {
    "tags": []
   },
   "outputs": [
    {
     "data": {
      "text/plain": [
       "a    0\n",
       "b    1\n",
       "c    2\n",
       "dtype: int64"
      ]
     },
     "execution_count": 11,
     "metadata": {},
     "output_type": "execute_result"
    }
   ],
   "source": [
    "# we can use this to create a pandas series \n",
    "pd.Series(np.arange(3), index = ['a', 'b', 'c'])\n",
    "\n"
   ]
  },
  {
   "cell_type": "markdown",
   "id": "a76df480-2ada-45d6-9071-34b7307dced0",
   "metadata": {},
   "source": [
    "What kind of a parameter is `index`\n",
    "\n",
    "A: An optional paramter, there is a default value to it.\n",
    "\n",
    "IF we dont specify `index` the default is to start the index from 0- \n",
    "\n",
    "Example "
   ]
  },
  {
   "cell_type": "code",
   "execution_count": 12,
   "id": "18c12bbf-1550-4786-8637-62fbd6f9d937",
   "metadata": {
    "tags": []
   },
   "outputs": [
    {
     "data": {
      "text/plain": [
       "0    EDS_220\n",
       "1    EDS_222\n",
       "2    EDS_223\n",
       "3    EDS_242\n",
       "dtype: object"
      ]
     },
     "execution_count": 12,
     "metadata": {},
     "output_type": "execute_result"
    }
   ],
   "source": [
    "# create a series from a list of strings with default index \n",
    "pd.Series(['EDS_220', 'EDS_222', 'EDS_223', 'EDS_242'])"
   ]
  },
  {
   "cell_type": "markdown",
   "id": "0066fb35-d776-4569-96a8-9e8ed7cc7e36",
   "metadata": {},
   "source": [
    "# Operations of series \n",
    "\n",
    "Arithmetic operations work on series on also most Numpy functions: \n",
    "\n",
    "Example: "
   ]
  },
  {
   "cell_type": "code",
   "execution_count": 18,
   "id": "f6062419-9113-4ffd-af2d-4cf274070065",
   "metadata": {
    "tags": []
   },
   "outputs": [
    {
     "name": "stdout",
     "output_type": "stream",
     "text": [
      "Andrea      98\n",
      "Beth        73\n",
      "Carolina    65\n",
      "dtype: int64 \n",
      "\n",
      "Andrea      9.8\n",
      "Beth        7.3\n",
      "Carolina    6.5\n",
      "dtype: float64\n"
     ]
    }
   ],
   "source": [
    "# Define a series\n",
    "s = pd.Series([98, 73, 65], index = ['Andrea', 'Beth', 'Carolina'])\n",
    "print(s, '\\n') #indicates the need to leave an empty line between the two \n",
    "\n",
    "\n",
    "#divide each element in the series by 10: \n",
    "print( s/10 )\n"
   ]
  },
  {
   "cell_type": "markdown",
   "id": "75039afc-a3c7-4606-aa8c-1fa452ba5101",
   "metadata": {},
   "source": [
    "Example: create a new series with `true`/`false` values indicating whether the elements int he series satisfy a condition or not. \n",
    "\n"
   ]
  },
  {
   "cell_type": "code",
   "execution_count": 19,
   "id": "7e2f1756-993c-4a10-9b75-ffc1b8ff138b",
   "metadata": {
    "tags": []
   },
   "outputs": [
    {
     "data": {
      "text/plain": [
       "Andrea       True\n",
       "Beth         True\n",
       "Carolina    False\n",
       "dtype: bool"
      ]
     },
     "execution_count": 19,
     "metadata": {},
     "output_type": "execute_result"
    }
   ],
   "source": [
    "s>70"
   ]
  },
  {
   "cell_type": "markdown",
   "id": "20ecf565-7541-406b-990b-cd4228ba462d",
   "metadata": {},
   "source": [
    "This is simple -- but important! Using conditions on series is key to select data from dataframes. "
   ]
  },
  {
   "cell_type": "markdown",
   "id": "3055b5b3-1b83-48e9-9882-1d95ef357bf6",
   "metadata": {},
   "source": [
    "# Methods and attributes for a series \n",
    "\n",
    "Two examples about idneitfying missing values. \n",
    "\n",
    "- missing values in `pandas` are represented by `np.NaN` = not a number \n",
    "- `NaN` is a type of float (decimal number is numpy) \n"
   ]
  },
  {
   "cell_type": "code",
   "execution_count": 20,
   "id": "275adcb8-2f8d-4a54-8c5d-d2277a2f446d",
   "metadata": {
    "tags": []
   },
   "outputs": [
    {
     "data": {
      "text/plain": [
       "nan"
      ]
     },
     "execution_count": 20,
     "metadata": {},
     "output_type": "execute_result"
    }
   ],
   "source": [
    "np.NaN"
   ]
  },
  {
   "cell_type": "code",
   "execution_count": 21,
   "id": "ce0885be-18b1-42ab-9ada-4fe45dc6211e",
   "metadata": {
    "tags": []
   },
   "outputs": [
    {
     "data": {
      "text/plain": [
       "float"
      ]
     },
     "execution_count": 21,
     "metadata": {},
     "output_type": "execute_result"
    }
   ],
   "source": [
    "type(np.NaN)"
   ]
  },
  {
   "cell_type": "code",
   "execution_count": 22,
   "id": "e904e272-c07b-400b-b99f-75ca1b4758d8",
   "metadata": {
    "tags": []
   },
   "outputs": [
    {
     "data": {
      "text/plain": [
       "0    1.0\n",
       "1    2.0\n",
       "2    NaN\n",
       "3    4.0\n",
       "4    NaN\n",
       "dtype: float64"
      ]
     },
     "execution_count": 22,
     "metadata": {},
     "output_type": "execute_result"
    }
   ],
   "source": [
    "# series with NAs in it: \n",
    "s = pd.Series([1, 2, np.NaN, 4, np.NaN])\n",
    "s"
   ]
  },
  {
   "cell_type": "markdown",
   "id": "fddcf472-d9ec-46c5-9f0b-8dd80c84094d",
   "metadata": {},
   "source": [
    "`hasnans` = attribute of panda series, returns `True` if there are any NAs: "
   ]
  },
  {
   "cell_type": "code",
   "execution_count": 23,
   "id": "8962c617-f714-483b-8af3-4160054848ae",
   "metadata": {
    "tags": []
   },
   "outputs": [
    {
     "data": {
      "text/plain": [
       "True"
      ]
     },
     "execution_count": 23,
     "metadata": {},
     "output_type": "execute_result"
    }
   ],
   "source": [
    "# check if series has NAs\n",
    "s.hasnans"
   ]
  },
  {
   "cell_type": "markdown",
   "id": "efc6401d-55f7-4570-9e77-1b50dc48b81b",
   "metadata": {},
   "source": [
    "`isna()` = a *method* of series, returns a series indicating which elements are NAs:"
   ]
  },
  {
   "cell_type": "code",
   "execution_count": 24,
   "id": "c1cc0686-b7a1-4bea-8fd6-78cbeaad4882",
   "metadata": {
    "tags": []
   },
   "outputs": [
    {
     "data": {
      "text/plain": [
       "0    False\n",
       "1    False\n",
       "2     True\n",
       "3    False\n",
       "4     True\n",
       "dtype: bool"
      ]
     },
     "execution_count": 24,
     "metadata": {},
     "output_type": "execute_result"
    }
   ],
   "source": [
    "s.isna()"
   ]
  },
  {
   "cell_type": "markdown",
   "id": "f11ac54b-b7e5-4db0-afb4-f5db5044492a",
   "metadata": {},
   "source": [
    "`bool`: `True` or `False` are **boolean values**"
   ]
  },
  {
   "cell_type": "markdown",
   "id": "82b35a90-a5be-4023-a239-2c43f85462df",
   "metadata": {},
   "source": [
    "columns of our dataframes are the booleans \n",
    "\n",
    "# Dataframes \n",
    "\n",
    "`pandas.DataFrame`:\n",
    "\n",
    "- most used object in `pandas`\n",
    "- represents tabular data (think of a spreadsheet)\n",
    "- each column is a `panda.Series`\n",
    "\n",
    "# Creating a `pandas.DataFrame`\n",
    "\n",
    "**Many ways of creating a dataframe*. Lets see one. \n",
    "\n",
    "Remember dicitonaries? They are sets of key value pairs: \n",
    "```\n",
    "{ key1 : value1, \n",
    "  key2 : value2\n",
    "}\n",
    "```\n",
    "\n",
    "Think of a `pd.DataFrame` as a dictionary where: \n",
    "\n",
    "- keys = column names \n",
    "- values = column values \n",
    "\n",
    "We can create a datafram eliek this: "
   ]
  },
  {
   "cell_type": "code",
   "execution_count": 29,
   "id": "0fe28ed5-a3ab-4758-acf3-fea8bb8948cc",
   "metadata": {
    "tags": []
   },
   "outputs": [
    {
     "data": {
      "text/plain": [
       "{'col_name_1': array([0, 1, 2]), 'col_name_2': [3.1, 3.2, 3.3]}"
      ]
     },
     "execution_count": 29,
     "metadata": {},
     "output_type": "execute_result"
    }
   ],
   "source": [
    "# initialize dictionary with columns data, column names have to be strings\n",
    "d = {'col_name_1' : np.arange(3),\n",
    "     'col_name_2' : [3.1, 3.2, 3.3]\n",
    "    }\n",
    "\n",
    "d\n"
   ]
  },
  {
   "cell_type": "code",
   "execution_count": 30,
   "id": "f08433f7-9156-4a56-bf2c-65023d3b8258",
   "metadata": {
    "tags": []
   },
   "outputs": [
    {
     "data": {
      "text/html": [
       "<div>\n",
       "<style scoped>\n",
       "    .dataframe tbody tr th:only-of-type {\n",
       "        vertical-align: middle;\n",
       "    }\n",
       "\n",
       "    .dataframe tbody tr th {\n",
       "        vertical-align: top;\n",
       "    }\n",
       "\n",
       "    .dataframe thead th {\n",
       "        text-align: right;\n",
       "    }\n",
       "</style>\n",
       "<table border=\"1\" class=\"dataframe\">\n",
       "  <thead>\n",
       "    <tr style=\"text-align: right;\">\n",
       "      <th></th>\n",
       "      <th>col_name_1</th>\n",
       "      <th>col_name_2</th>\n",
       "    </tr>\n",
       "  </thead>\n",
       "  <tbody>\n",
       "    <tr>\n",
       "      <th>0</th>\n",
       "      <td>0</td>\n",
       "      <td>3.1</td>\n",
       "    </tr>\n",
       "    <tr>\n",
       "      <th>1</th>\n",
       "      <td>1</td>\n",
       "      <td>3.2</td>\n",
       "    </tr>\n",
       "    <tr>\n",
       "      <th>2</th>\n",
       "      <td>2</td>\n",
       "      <td>3.3</td>\n",
       "    </tr>\n",
       "  </tbody>\n",
       "</table>\n",
       "</div>"
      ],
      "text/plain": [
       "   col_name_1  col_name_2\n",
       "0           0         3.1\n",
       "1           1         3.2\n",
       "2           2         3.3"
      ]
     },
     "execution_count": 30,
     "metadata": {},
     "output_type": "execute_result"
    }
   ],
   "source": [
    "df = pd.DataFrame(d)\n",
    "df"
   ]
  },
  {
   "cell_type": "markdown",
   "id": "84498d80-77cf-4fae-a6dc-34a5741235f4",
   "metadata": {},
   "source": [
    "# In place operations \n",
    "Lets rename the data frames columns. \n",
    "We can use a dataframe *method* called `rename`. \n",
    "`rename` takes in as an input a dictionary: \n",
    "\n",
    "```\n",
    "{ 'col1_oldname' : 'col1_newname',\n",
    "'col2_oldname' : 'col2_newname'}\n",
    "```"
   ]
  },
  {
   "cell_type": "code",
   "execution_count": 32,
   "id": "a865b314-1043-4fbe-967f-8efcc84f42c3",
   "metadata": {
    "tags": []
   },
   "outputs": [
    {
     "data": {
      "text/html": [
       "<div>\n",
       "<style scoped>\n",
       "    .dataframe tbody tr th:only-of-type {\n",
       "        vertical-align: middle;\n",
       "    }\n",
       "\n",
       "    .dataframe tbody tr th {\n",
       "        vertical-align: top;\n",
       "    }\n",
       "\n",
       "    .dataframe thead th {\n",
       "        text-align: right;\n",
       "    }\n",
       "</style>\n",
       "<table border=\"1\" class=\"dataframe\">\n",
       "  <thead>\n",
       "    <tr style=\"text-align: right;\">\n",
       "      <th></th>\n",
       "      <th>col1</th>\n",
       "      <th>col2</th>\n",
       "    </tr>\n",
       "  </thead>\n",
       "  <tbody>\n",
       "    <tr>\n",
       "      <th>0</th>\n",
       "      <td>0</td>\n",
       "      <td>3.1</td>\n",
       "    </tr>\n",
       "    <tr>\n",
       "      <th>1</th>\n",
       "      <td>1</td>\n",
       "      <td>3.2</td>\n",
       "    </tr>\n",
       "    <tr>\n",
       "      <th>2</th>\n",
       "      <td>2</td>\n",
       "      <td>3.3</td>\n",
       "    </tr>\n",
       "  </tbody>\n",
       "</table>\n",
       "</div>"
      ],
      "text/plain": [
       "   col1  col2\n",
       "0     0   3.1\n",
       "1     1   3.2\n",
       "2     2   3.3"
      ]
     },
     "execution_count": 32,
     "metadata": {},
     "output_type": "execute_result"
    }
   ],
   "source": [
    "col_names = {'col_name_1' : 'col1',\n",
    "            'col_name_2' : 'col2'\n",
    "           }\n",
    "\n",
    "#rename using rename \n",
    "df.rename(columns = col_names)"
   ]
  },
  {
   "cell_type": "code",
   "execution_count": 33,
   "id": "0bfc8ba3-ed2f-4499-88fc-d9ebdf7d149e",
   "metadata": {
    "tags": []
   },
   "outputs": [
    {
     "data": {
      "text/html": [
       "<div>\n",
       "<style scoped>\n",
       "    .dataframe tbody tr th:only-of-type {\n",
       "        vertical-align: middle;\n",
       "    }\n",
       "\n",
       "    .dataframe tbody tr th {\n",
       "        vertical-align: top;\n",
       "    }\n",
       "\n",
       "    .dataframe thead th {\n",
       "        text-align: right;\n",
       "    }\n",
       "</style>\n",
       "<table border=\"1\" class=\"dataframe\">\n",
       "  <thead>\n",
       "    <tr style=\"text-align: right;\">\n",
       "      <th></th>\n",
       "      <th>col_name_1</th>\n",
       "      <th>col_name_2</th>\n",
       "    </tr>\n",
       "  </thead>\n",
       "  <tbody>\n",
       "    <tr>\n",
       "      <th>0</th>\n",
       "      <td>0</td>\n",
       "      <td>3.1</td>\n",
       "    </tr>\n",
       "    <tr>\n",
       "      <th>1</th>\n",
       "      <td>1</td>\n",
       "      <td>3.2</td>\n",
       "    </tr>\n",
       "    <tr>\n",
       "      <th>2</th>\n",
       "      <td>2</td>\n",
       "      <td>3.3</td>\n",
       "    </tr>\n",
       "  </tbody>\n",
       "</table>\n",
       "</div>"
      ],
      "text/plain": [
       "   col_name_1  col_name_2\n",
       "0           0         3.1\n",
       "1           1         3.2\n",
       "2           2         3.3"
      ]
     },
     "execution_count": 33,
     "metadata": {},
     "output_type": "execute_result"
    }
   ],
   "source": [
    "#take a look at our dataframe \n",
    "df"
   ]
  },
  {
   "cell_type": "markdown",
   "id": "533543db-d8f5-45ab-b615-7eac5c5dab97",
   "metadata": {
    "tags": []
   },
   "source": [
    "Nothing changed! \n",
    "`df.rename()` doesnt change the columns names *in place*, meaning it doesnt modify the obejct itself. Instead, it created a new obejct as an ouptut. \n",
    "\n",
    "Assign output back to dataframe to actually change it:"
   ]
  },
  {
   "cell_type": "code",
   "execution_count": 37,
   "id": "766a3cfa-0ae1-491f-b669-bfae066221bd",
   "metadata": {
    "tags": []
   },
   "outputs": [
    {
     "data": {
      "text/html": [
       "<div>\n",
       "<style scoped>\n",
       "    .dataframe tbody tr th:only-of-type {\n",
       "        vertical-align: middle;\n",
       "    }\n",
       "\n",
       "    .dataframe tbody tr th {\n",
       "        vertical-align: top;\n",
       "    }\n",
       "\n",
       "    .dataframe thead th {\n",
       "        text-align: right;\n",
       "    }\n",
       "</style>\n",
       "<table border=\"1\" class=\"dataframe\">\n",
       "  <thead>\n",
       "    <tr style=\"text-align: right;\">\n",
       "      <th></th>\n",
       "      <th>col1</th>\n",
       "      <th>col2</th>\n",
       "    </tr>\n",
       "  </thead>\n",
       "  <tbody>\n",
       "    <tr>\n",
       "      <th>0</th>\n",
       "      <td>0</td>\n",
       "      <td>3.1</td>\n",
       "    </tr>\n",
       "    <tr>\n",
       "      <th>1</th>\n",
       "      <td>1</td>\n",
       "      <td>3.2</td>\n",
       "    </tr>\n",
       "    <tr>\n",
       "      <th>2</th>\n",
       "      <td>2</td>\n",
       "      <td>3.3</td>\n",
       "    </tr>\n",
       "  </tbody>\n",
       "</table>\n",
       "</div>"
      ],
      "text/plain": [
       "   col1  col2\n",
       "0     0   3.1\n",
       "1     1   3.2\n",
       "2     2   3.3"
      ]
     },
     "execution_count": 37,
     "metadata": {},
     "output_type": "execute_result"
    }
   ],
   "source": [
    "#need to reassign new object to things you wanna change \n",
    "df = df.rename(columns = col_names)\n",
    "df\n",
    "\n",
    "#dont use inplace = true "
   ]
  },
  {
   "cell_type": "code",
   "execution_count": null,
   "id": "74c69f62-1a42-4829-afe9-3b597395e262",
   "metadata": {},
   "outputs": [],
   "source": []
  }
 ],
 "metadata": {
  "kernelspec": {
   "display_name": "Anaconda 3 (Base)",
   "language": "python",
   "name": "base"
  },
  "language_info": {
   "codemirror_mode": {
    "name": "ipython",
    "version": 3
   },
   "file_extension": ".py",
   "mimetype": "text/x-python",
   "name": "python",
   "nbconvert_exporter": "python",
   "pygments_lexer": "ipython3",
   "version": "3.9.13"
  }
 },
 "nbformat": 4,
 "nbformat_minor": 5
}
